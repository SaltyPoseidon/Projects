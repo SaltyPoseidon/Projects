{
  "cells": [
    {
      "cell_type": "markdown",
      "metadata": {
        "id": "JbiR4YHvyX1f"
      },
      "source": [
        "<small><font color=gray>Notebook author: <a href=\"https://www.linkedin.com/in/olegmelnikov/\" target=\"_blank\">Oleg Melnikov</a> ©2021 onwards</font></small><hr style=\"margin:0;background-color:silver\">\n",
        "\n",
        "**[<font size=6>🧬Genomics</font>](https://www.kaggle.com/competitions/4dec23hse-genomics/rules)**. [**Instructions**](https://colab.research.google.com/drive/1owkYjuRGkx050LQnM3b3yTzd0Dr2XbeV) for running Colabs."
      ]
    },
    {
      "cell_type": "markdown",
      "metadata": {
        "id": "mwuPxmU5NFLz"
      },
      "source": [
        "<small>**(Optional) CONSENT.** <mark>[ X ]</mark> We consent to sharing our Colab (after the assignment ends) with other students/instructors for educational purposes. We understand that sharing is optional and this decision will not affect our grade in any way. <font color=gray><i>(If ok with sharing your Colab for educational purposes, leave \"X\" in the check box.)</i></font></small>"
      ]
    },
    {
      "cell_type": "code",
      "execution_count": null,
      "metadata": {
        "id": "4ZK9-jiByA4Z"
      },
      "outputs": [],
      "source": [
        "# from google.colab import drive; drive.mount('/content/drive')   # OK to enable, if your kaggle.json is stored in Google Drive"
      ]
    },
    {
      "cell_type": "code",
      "execution_count": null,
      "metadata": {
        "id": "dt1AeSYEx5kV"
      },
      "outputs": [],
      "source": [
        "# !pip -q install --upgrade --fo|                        # Kaggle dataset is copied as a single file and needs to be unzipped.\n",
        "# !kaggle competitions leaderboard --show           # print public leaderboard"
      ]
    },
    {
      "cell_type": "code",
      "execution_count": null,
      "metadata": {
        "id": "4Im40LyqyJuA"
      },
      "outputs": [],
      "source": [
        "# !nvidia-smi --query-gpu=gpu_name,memory.total,memory.free,memory.used --format=csv # GPU specs"
      ]
    },
    {
      "cell_type": "code",
      "execution_count": null,
      "metadata": {
        "colab": {
          "base_uri": "https://localhost:8080/"
        },
        "id": "yGUK_EcvtN8y",
        "outputId": "98629c19-4930-4906-aa23-be9b9ef6f9ff"
      },
      "outputs": [
        {
          "name": "stderr",
          "output_type": "stream",
          "text": [
            "huggingface/tokenizers: The current process just got forked, after parallelism has already been used. Disabling parallelism to avoid deadlocks...\n",
            "To disable this warning, you can either:\n",
            "\t- Avoid using `tokenizers` before the fork if possible\n",
            "\t- Explicitly set the environment variable TOKENIZERS_PARALLELISM=(true | false)\n"
          ]
        },
        {
          "name": "stdout",
          "output_type": "stream",
          "text": [
            "CPU times: user 141 ms, sys: 30.6 ms, total: 171 ms\n",
            "Wall time: 1.7 s\n"
          ]
        }
      ],
      "source": [
        "%%time\n",
        "%%capture\n",
        "%reset -f\n",
        "!pip -q install -U sentence-transformers > log\n",
        "from IPython.core.interactiveshell import InteractiveShell as IS; IS.ast_node_interactivity = \"all\"\n",
        "import numpy as np, pandas as pd, time, matplotlib.pyplot as plt, os, plotly\n",
        "from sklearn.model_selection import train_test_split\n",
        "from sentence_transformers import SentenceTransformer as SBERT\n",
        "from sklearn.svm import SVC, LinearSVC, NuSVC\n",
        "ToCSV = lambda df, fname: df.round(2).to_csv(f'{fname}.csv', index_label='id') # rounds values to 2 decimals\n",
        "\n",
        "class Timer():\n",
        "  def __init__(self, lim:'RunTimeLimit'=60*5): self.t0, self.lim, _ = time.time(), lim, print(f'⏳ started. You have {lim} sec. Good luck!')\n",
        "  def ShowTime(self):\n",
        "    msg = f'Runtime is {time.time()-self.t0:.0f} sec'\n",
        "    print(f'\\033[91m\\033[1m' + msg + f' > {self.lim} sec limit!!!\\033[0m' if (time.time()-self.t0-1) > self.lim else msg)\n",
        "\n",
        "np.set_printoptions(linewidth=10000, precision=4, edgeitems=20, suppress=True)\n",
        "pd.set_option('display.max_rows', 100, 'display.max_columns', 100, 'display.max_colwidth', 100, 'display.precision', 2, 'display.max_rows', 4)"
      ]
    },
    {
      "cell_type": "code",
      "execution_count": null,
      "metadata": {
        "colab": {
          "base_uri": "https://localhost:8080/",
          "height": 378
        },
        "id": "I1TC9f43ItUY",
        "outputId": "8c9b7363-535f-4f3e-bbc0-fa586697ebf5"
      },
      "outputs": [
        {
          "data": {
            "text/html": [
              "<div>\n",
              "<style scoped>\n",
              "    .dataframe tbody tr th:only-of-type {\n",
              "        vertical-align: middle;\n",
              "    }\n",
              "\n",
              "    .dataframe tbody tr th {\n",
              "        vertical-align: top;\n",
              "    }\n",
              "\n",
              "    .dataframe thead th {\n",
              "        text-align: right;\n",
              "    }\n",
              "</style>\n",
              "<table border=\"1\" class=\"dataframe\">\n",
              "  <thead>\n",
              "    <tr style=\"text-align: right;\">\n",
              "      <th></th>\n",
              "      <th>DNA</th>\n",
              "    </tr>\n",
              "    <tr>\n",
              "      <th>id</th>\n",
              "      <th></th>\n",
              "    </tr>\n",
              "  </thead>\n",
              "  <tbody>\n",
              "    <tr>\n",
              "      <th>100000</th>\n",
              "      <td>TTGATTAATAAGATTCCTTGACACCCTTTGTAAAGTTTCTATTTCGTGTGAAATATCTATCTCTTCAAATCCTTTTAATTTATCTAGGTATTTGCT...</td>\n",
              "    </tr>\n",
              "    <tr>\n",
              "      <th>100001</th>\n",
              "      <td>ATTAGTAACGGAGGATTTACTAGATGTTTGGATTTATATTCTAATTTTATTCAGGTGGAAGGGATTGTTTTATGATTCAATAGTATACAGAGAATA...</td>\n",
              "    </tr>\n",
              "    <tr>\n",
              "      <th>...</th>\n",
              "      <td>...</td>\n",
              "    </tr>\n",
              "    <tr>\n",
              "      <th>119998</th>\n",
              "      <td>CGTCGGCATGCTCGGGCAGTGCGGCGGGCCAGCAGCGTGCCAGTTGTCGCGGGGCGGCCGGGCATCGCGGCGCCGGGCGGCAGCACTCCCGCGAAG...</td>\n",
              "    </tr>\n",
              "    <tr>\n",
              "      <th>119999</th>\n",
              "      <td>GCGAGGGCACGAAGGCACGACGGCAACGGCGGCGAGGAGCGCTGTGGCAACCGTCTCCGCGTTTGCGTGCGTACAGCCGAGAGCTGGTTCGCGCAG...</td>\n",
              "    </tr>\n",
              "  </tbody>\n",
              "</table>\n",
              "<p>20000 rows × 1 columns</p>\n",
              "</div>"
            ],
            "text/plain": [
              "                                                                                                        DNA\n",
              "id                                                                                                         \n",
              "100000  TTGATTAATAAGATTCCTTGACACCCTTTGTAAAGTTTCTATTTCGTGTGAAATATCTATCTCTTCAAATCCTTTTAATTTATCTAGGTATTTGCT...\n",
              "100001  ATTAGTAACGGAGGATTTACTAGATGTTTGGATTTATATTCTAATTTTATTCAGGTGGAAGGGATTGTTTTATGATTCAATAGTATACAGAGAATA...\n",
              "...                                                                                                     ...\n",
              "119998  CGTCGGCATGCTCGGGCAGTGCGGCGGGCCAGCAGCGTGCCAGTTGTCGCGGGGCGGCCGGGCATCGCGGCGCCGGGCGGCAGCACTCCCGCGAAG...\n",
              "119999  GCGAGGGCACGAAGGCACGACGGCAACGGCGGCGAGGAGCGCTGTGGCAACCGTCTCCGCGTTTGCGTGCGTACAGCCGAGAGCTGGTTCGCGCAG...\n",
              "\n",
              "[20000 rows x 1 columns]"
            ]
          },
          "execution_count": 52,
          "metadata": {},
          "output_type": "execute_result"
        }
      ],
      "source": [
        "vX = pd.read_csv('/Users/gena/Documents/4dec23hse-genomics/testX/testX.csv').set_index('id')\n",
        "tYX = pd.read_csv('/Users/gena/Documents/4dec23hse-genomics/trainYX/trainYX.csv').set_index('id')\n",
        "# vX"
      ]
    },
    {
      "cell_type": "markdown",
      "metadata": {
        "id": "NxdcdlfS07T8"
      },
      "source": [
        "### EDA"
      ]
    },
    {
      "cell_type": "code",
      "execution_count": null,
      "metadata": {
        "id": "0yg42ole07T8"
      },
      "outputs": [],
      "source": [
        "tmr = Timer() # runtime limit (in seconds). Add all of your code after the timer"
      ]
    },
    {
      "cell_type": "markdown",
      "metadata": {
        "id": "IWlxEOyM07T8"
      },
      "source": [
        "❗Do not modify the setup above."
      ]
    },
    {
      "cell_type": "markdown",
      "metadata": {
        "id": "aTkQzlfb07T9"
      },
      "source": [
        "<hr color=red>\n",
        "\n",
        "<font size=5>⏳</font> <strong><font color=orange size=5>Your Code, Documentation, Ideas and Timer - All Start Here...</font></strong>\n",
        "\n",
        "Students: Keep all your definitions, code, documentation **between** ⏳ symbols."
      ]
    },
    {
      "cell_type": "markdown",
      "metadata": {
        "id": "FDKBFvTp07T9"
      },
      "source": [
        "## **Task 1. Preprocessing Pipeline**\n",
        "\n",
        "Explain elements of your preprocessing pipeline i.e. feature engineering, subsampling, clustering, dimensionality reduction, etc.\n",
        "1. Why did you choose these elements? (Something in EDA, prior experience,...? Btw, EDA is not required)\n",
        "1. How do you evaluate the effectiveness of these elements?\n",
        "1. What else have you tried that worked or didn't?"
      ]
    },
    {
      "cell_type": "markdown",
      "metadata": {
        "id": "yLQxZwpD07T9"
      },
      "source": [
        "**Student's answer:**"
      ]
    },
    {
      "cell_type": "code",
      "execution_count": null,
      "metadata": {
        "id": "3k3QWkMS07T9"
      },
      "outputs": [],
      "source": [
        "DNAs = vX[\"DNA\"].values"
      ]
    },
    {
      "cell_type": "code",
      "execution_count": null,
      "metadata": {
        "id": "LnNtsogk07T9",
        "outputId": "77e8243f-e085-4496-f9a5-0da8bdae6085"
      },
      "outputs": [
        {
          "name": "stdout",
          "output_type": "stream",
          "text": [
            "268.43775\n",
            "119\n",
            "425\n",
            "298\n",
            "7383\n",
            "7504\n"
          ]
        }
      ],
      "source": [
        "avg_seq_length, min_seq_length, max_seq_length = -1, 999999999999, -1\n",
        "sum = 0\n",
        "n = 0\n",
        "greater_200 = 0\n",
        "greater_300 = 0\n",
        "greater_400 = 0\n",
        "for dna in DNAs:\n",
        "    dna_length = len(dna)\n",
        "    if dna_length < min_seq_length:\n",
        "        min_seq_length = dna_length\n",
        "    if dna_length > max_seq_length:\n",
        "        max_seq_length = dna_length\n",
        "    sum += dna_length\n",
        "    n += 1\n",
        "    if dna_length >= 400:\n",
        "        greater_400 += 1\n",
        "    elif dna_length >= 300:\n",
        "        greater_300 += 1\n",
        "    elif dna_length >= 200:\n",
        "        greater_200 += 1\n",
        "print(sum/n)\n",
        "print(min_seq_length)\n",
        "print(max_seq_length)\n",
        "print(greater_400)\n",
        "print(greater_300)\n",
        "print(greater_200)"
      ]
    },
    {
      "cell_type": "code",
      "execution_count": null,
      "metadata": {
        "id": "hdzqzYwu07T9",
        "outputId": "cb88e251-582c-4a81-9801-87afe71585fd"
      },
      "outputs": [
        {
          "data": {
            "text/html": [
              "<div>\n",
              "<style scoped>\n",
              "    .dataframe tbody tr th:only-of-type {\n",
              "        vertical-align: middle;\n",
              "    }\n",
              "\n",
              "    .dataframe tbody tr th {\n",
              "        vertical-align: top;\n",
              "    }\n",
              "\n",
              "    .dataframe thead th {\n",
              "        text-align: right;\n",
              "    }\n",
              "</style>\n",
              "<table border=\"1\" class=\"dataframe\">\n",
              "  <thead>\n",
              "    <tr style=\"text-align: right;\">\n",
              "      <th></th>\n",
              "      <th>Y</th>\n",
              "      <th>DNA</th>\n",
              "    </tr>\n",
              "    <tr>\n",
              "      <th>id</th>\n",
              "      <th></th>\n",
              "      <th></th>\n",
              "    </tr>\n",
              "  </thead>\n",
              "  <tbody>\n",
              "    <tr>\n",
              "      <th>0</th>\n",
              "      <td>0</td>\n",
              "      <td>CCTACTCTAAAGAGATTTGCAGTTGCGATGAGAAGCTTACCTCGAGAACCTAGTATGATGGAATTCATTGAAAGAACGTGATAAAAGTGAGATCCA...</td>\n",
              "    </tr>\n",
              "    <tr>\n",
              "      <th>1</th>\n",
              "      <td>1</td>\n",
              "      <td>CGGCGGTAGCAGCGCGGGCGAGACCCGCGAGGCGCGGCGGGTTGAACGCTTGCGGTCGACGGCGGGGCGTGCGTGTGCGACGAGCGCGCGCGCCGG...</td>\n",
              "    </tr>\n",
              "    <tr>\n",
              "      <th>...</th>\n",
              "      <td>...</td>\n",
              "      <td>...</td>\n",
              "    </tr>\n",
              "    <tr>\n",
              "      <th>99998</th>\n",
              "      <td>0</td>\n",
              "      <td>GATTCCTATTTCTCTGAAGAATTAGATAAGCACTCAGGTCAATTTCTGCATACTTATTAGTAGTCATTTGCCCGGGATGATAGACTGGTGGTGTTG...</td>\n",
              "    </tr>\n",
              "    <tr>\n",
              "      <th>99999</th>\n",
              "      <td>1</td>\n",
              "      <td>CTCGCGCCTTCGACGTTGCGGACTTGCCAGTCGGAAGTCGTCCCCTGGTGTGTCGCGCGACACAGCCCTTCCTTCGTTCACCCCACACTGGTAAGC...</td>\n",
              "    </tr>\n",
              "  </tbody>\n",
              "</table>\n",
              "<p>100000 rows × 2 columns</p>\n",
              "</div>"
            ],
            "text/plain": [
              "       Y  \\\n",
              "id         \n",
              "0      0   \n",
              "1      1   \n",
              "...   ..   \n",
              "99998  0   \n",
              "99999  1   \n",
              "\n",
              "                                                                                                       DNA  \n",
              "id                                                                                                          \n",
              "0      CCTACTCTAAAGAGATTTGCAGTTGCGATGAGAAGCTTACCTCGAGAACCTAGTATGATGGAATTCATTGAAAGAACGTGATAAAAGTGAGATCCA...  \n",
              "1      CGGCGGTAGCAGCGCGGGCGAGACCCGCGAGGCGCGGCGGGTTGAACGCTTGCGGTCGACGGCGGGGCGTGCGTGTGCGACGAGCGCGCGCGCCGG...  \n",
              "...                                                                                                    ...  \n",
              "99998  GATTCCTATTTCTCTGAAGAATTAGATAAGCACTCAGGTCAATTTCTGCATACTTATTAGTAGTCATTTGCCCGGGATGATAGACTGGTGGTGTTG...  \n",
              "99999  CTCGCGCCTTCGACGTTGCGGACTTGCCAGTCGGAAGTCGTCCCCTGGTGTGTCGCGCGACACAGCCCTTCCTTCGTTCACCCCACACTGGTAAGC...  \n",
              "\n",
              "[100000 rows x 2 columns]"
            ]
          },
          "execution_count": 56,
          "metadata": {},
          "output_type": "execute_result"
        }
      ],
      "source": [
        "tYX"
      ]
    },
    {
      "cell_type": "code",
      "execution_count": null,
      "metadata": {
        "id": "nBuyyVeL07T9"
      },
      "outputs": [],
      "source": [
        "tYX_dnas = tYX.DNA.values"
      ]
    },
    {
      "cell_type": "code",
      "execution_count": null,
      "metadata": {
        "id": "63OUPtE_07T9",
        "outputId": "3df8fd55-5b87-4e80-b86c-d0319f77fe11"
      },
      "outputs": [
        {
          "data": {
            "text/plain": [
              "100000"
            ]
          },
          "execution_count": 58,
          "metadata": {},
          "output_type": "execute_result"
        }
      ],
      "source": [
        "len(tYX.DNA.values)"
      ]
    },
    {
      "cell_type": "code",
      "execution_count": null,
      "metadata": {
        "id": "1suDm4Vs07T9",
        "outputId": "6e7aeda3-d209-438e-c2ab-9c2cf48a3316"
      },
      "outputs": [
        {
          "data": {
            "text/plain": [
              "100000"
            ]
          },
          "execution_count": 59,
          "metadata": {},
          "output_type": "execute_result"
        }
      ],
      "source": [
        "len(tYX_dnas)"
      ]
    },
    {
      "cell_type": "code",
      "execution_count": null,
      "metadata": {
        "id": "AgKhdQz707T-",
        "outputId": "85aebeec-05a5-43b8-82fd-58324e69b0cf"
      },
      "outputs": [
        {
          "data": {
            "text/plain": [
              "100000"
            ]
          },
          "execution_count": 60,
          "metadata": {},
          "output_type": "execute_result"
        }
      ],
      "source": [
        "len(tYX_dnas)"
      ]
    },
    {
      "cell_type": "code",
      "execution_count": null,
      "metadata": {
        "id": "uVKkSdZE07T-"
      },
      "outputs": [],
      "source": [
        "from tqdm import tqdm"
      ]
    },
    {
      "cell_type": "code",
      "execution_count": null,
      "metadata": {
        "id": "NIvO1SbE07T-",
        "outputId": "54c50fa8-268a-4118-dbaa-906bde5b9cd9"
      },
      "outputs": [
        {
          "name": "stderr",
          "output_type": "stream",
          "text": [
            "100%|█████████████████████████████████████████████████████████████████████████████████| 100000/100000 [00:00<00:00, 1660222.85it/s]"
          ]
        },
        {
          "name": "stdout",
          "output_type": "stream",
          "text": [
            "268.07775\n",
            "121\n",
            "425\n",
            "1563\n",
            "36603\n",
            "37629\n"
          ]
        },
        {
          "name": "stderr",
          "output_type": "stream",
          "text": [
            "\n"
          ]
        }
      ],
      "source": [
        "avg_seq_length, min_seq_length, max_seq_length = -1, 999999999999, -1\n",
        "sum = 0\n",
        "n = 0\n",
        "greater_200 = 0\n",
        "greater_300 = 0\n",
        "greater_400 = 0\n",
        "for dna in tqdm(tYX_dnas):\n",
        "    dna_length = len(dna)\n",
        "    if dna_length < min_seq_length:\n",
        "        min_seq_length = dna_length\n",
        "    if dna_length > max_seq_length:\n",
        "        max_seq_length = dna_length\n",
        "    sum += dna_length\n",
        "    n += 1\n",
        "    if dna_length >= 400:\n",
        "        greater_400 += 1\n",
        "    elif dna_length >= 300:\n",
        "        greater_300 += 1\n",
        "    elif dna_length >= 200:\n",
        "        greater_200 += 1\n",
        "print(sum/n)\n",
        "print(min_seq_length)\n",
        "print(max_seq_length)\n",
        "print(greater_400)\n",
        "print(greater_300)\n",
        "print(greater_200)"
      ]
    },
    {
      "cell_type": "markdown",
      "metadata": {
        "id": "J4SXn5cl07T_"
      },
      "source": [
        "We can see that in Baseline they were slicing the string up to first 50 values, howere the smallest seqence is 119 symbols long, this is the place from which we can get additional information. Baseline gives us accuracy of 0.9507\n",
        "Lets see how we will improve with 119 symbols"
      ]
    },
    {
      "cell_type": "markdown",
      "metadata": {
        "id": "XW1Hs-Mq07T_"
      },
      "source": [
        "Results of sequence change:\n",
        "1) For some strange reason, 119 made it worse as well as 110 - down to 0.5 percent\n",
        "2) However increaseing sequnce length to 100 made our accuracy score grow up to 0.9738"
      ]
    },
    {
      "cell_type": "markdown",
      "metadata": {
        "id": "ZAy3vKTX07T_"
      },
      "source": [
        "This gives us an ooportunity to add additional data entries in train from sequences with length > 200\n",
        "We have 1563 sequences of length 400+\n",
        "We have 36603 sequences of length 300+\n",
        "We have 37629 sequences of length 200+\n",
        "In total we have 1563 * 3 + 36603 * 2 + 37629 additional data entries in train which sum up to 115524 additional train entries.\n",
        "This is more that +115% of our initial data"
      ]
    },
    {
      "cell_type": "code",
      "execution_count": null,
      "metadata": {
        "id": "UGH4BGW307T_"
      },
      "outputs": [],
      "source": [
        "# add aditional data entries\n",
        "dna = tYX.DNA.values\n",
        "targets = tYX.Y.values\n",
        "new_targs, new_dnas = [], []\n",
        "for target, dna_seq in zip(targets, dna):\n",
        "    dna_seq_length = len(dna_seq)\n",
        "    if dna_seq_length >= 400:\n",
        "        first_seq = dna_seq[:100]\n",
        "        second_seq = dna_seq[100:200]\n",
        "        third_seq = dna_seq[200:300]\n",
        "        fourth_seq = dna_seq[300:400]\n",
        "        new_dnas += [first_seq, second_seq, third_seq, fourth_seq]\n",
        "        new_targs += [target, target, target, target]\n",
        "    elif dna_seq_length >= 300:\n",
        "        first_seq = dna_seq[:100]\n",
        "        second_seq = dna_seq[100:200]\n",
        "        third_seq = dna_seq[200:300]\n",
        "        new_dnas += [first_seq, second_seq, third_seq]\n",
        "        new_targs += [target, target, target]\n",
        "    elif dna_seq_length >= 200:\n",
        "        first_seq = dna_seq[:100]\n",
        "        second_seq = dna_seq[100:200]\n",
        "        new_dnas += [first_seq, second_seq]\n",
        "        new_targs += [target, target]\n",
        "    else:\n",
        "        first_seq = dna_seq[:100]\n",
        "        new_dnas += [first_seq]\n",
        "        new_targs += [target]"
      ]
    },
    {
      "cell_type": "code",
      "execution_count": null,
      "metadata": {
        "id": "8PEqBLb207T_"
      },
      "outputs": [],
      "source": [
        "new_tXY = pd.DataFrame({\"Y\":new_targs, \"DNA\":new_dnas})"
      ]
    },
    {
      "cell_type": "code",
      "execution_count": null,
      "metadata": {
        "scrolled": true,
        "id": "ELm7zwIy07T_",
        "outputId": "ff1f2fd6-e3b2-4a10-c999-8843094b10b4"
      },
      "outputs": [
        {
          "data": {
            "text/html": [
              "<div>\n",
              "<style scoped>\n",
              "    .dataframe tbody tr th:only-of-type {\n",
              "        vertical-align: middle;\n",
              "    }\n",
              "\n",
              "    .dataframe tbody tr th {\n",
              "        vertical-align: top;\n",
              "    }\n",
              "\n",
              "    .dataframe thead th {\n",
              "        text-align: right;\n",
              "    }\n",
              "</style>\n",
              "<table border=\"1\" class=\"dataframe\">\n",
              "  <thead>\n",
              "    <tr style=\"text-align: right;\">\n",
              "      <th></th>\n",
              "      <th>Y</th>\n",
              "      <th>DNA</th>\n",
              "    </tr>\n",
              "  </thead>\n",
              "  <tbody>\n",
              "    <tr>\n",
              "      <th>0</th>\n",
              "      <td>0</td>\n",
              "      <td>CCTACTCTAAAGAGATTTGCAGTTGCGATGAGAAGCTTACCTCGAGAACCTAGTATGATGGAATTCATTGAAAGAACGTGATAAAAGTGAGATCCA...</td>\n",
              "    </tr>\n",
              "    <tr>\n",
              "      <th>1</th>\n",
              "      <td>1</td>\n",
              "      <td>CGGCGGTAGCAGCGCGGGCGAGACCCGCGAGGCGCGGCGGGTTGAACGCTTGCGGTCGACGGCGGGGCGTGCGTGTGCGACGAGCGCGCGCGCCGG...</td>\n",
              "    </tr>\n",
              "    <tr>\n",
              "      <th>...</th>\n",
              "      <td>...</td>\n",
              "      <td>...</td>\n",
              "    </tr>\n",
              "    <tr>\n",
              "      <th>215522</th>\n",
              "      <td>1</td>\n",
              "      <td>GGGTTCGAGCGCTGCTTAATACGATAGTGCCATTGGATCTAAAAACACTTGCCGAGAGGCTCGGACATGGTTCCCGTCCGCCCGACAGTGCCACGC...</td>\n",
              "    </tr>\n",
              "    <tr>\n",
              "      <th>215523</th>\n",
              "      <td>1</td>\n",
              "      <td>CGTGGACTTGCCCAGTCGGAAGACGATCCCTGGTGGCCCCGCACCGCCCTTCCTTCGTGTCCACCACGCACGCGTAAGCGTGGCGGGTGCCGTCGC...</td>\n",
              "    </tr>\n",
              "  </tbody>\n",
              "</table>\n",
              "<p>215524 rows × 2 columns</p>\n",
              "</div>"
            ],
            "text/plain": [
              "        Y  \\\n",
              "0       0   \n",
              "1       1   \n",
              "...    ..   \n",
              "215522  1   \n",
              "215523  1   \n",
              "\n",
              "                                                                                                        DNA  \n",
              "0       CCTACTCTAAAGAGATTTGCAGTTGCGATGAGAAGCTTACCTCGAGAACCTAGTATGATGGAATTCATTGAAAGAACGTGATAAAAGTGAGATCCA...  \n",
              "1       CGGCGGTAGCAGCGCGGGCGAGACCCGCGAGGCGCGGCGGGTTGAACGCTTGCGGTCGACGGCGGGGCGTGCGTGTGCGACGAGCGCGCGCGCCGG...  \n",
              "...                                                                                                     ...  \n",
              "215522  GGGTTCGAGCGCTGCTTAATACGATAGTGCCATTGGATCTAAAAACACTTGCCGAGAGGCTCGGACATGGTTCCCGTCCGCCCGACAGTGCCACGC...  \n",
              "215523  CGTGGACTTGCCCAGTCGGAAGACGATCCCTGGTGGCCCCGCACCGCCCTTCCTTCGTGTCCACCACGCACGCGTAAGCGTGGCGGGTGCCGTCGC...  \n",
              "\n",
              "[215524 rows x 2 columns]"
            ]
          },
          "execution_count": 65,
          "metadata": {},
          "output_type": "execute_result"
        }
      ],
      "source": [
        "new_tXY"
      ]
    },
    {
      "cell_type": "markdown",
      "metadata": {
        "id": "KGJRwzqHob4o"
      },
      "source": [
        "## **Task 2. Modeling Approach**\n",
        "Explain your modeling approach, i.e. ideas you tried and why you thought they would be helpful.\n",
        "\n",
        "1. How did these decisions guide you in modeling?\n",
        "1. How do you evaluate the effectiveness of these elements?\n",
        "1. What else have you tried that worked or didn't?"
      ]
    },
    {
      "cell_type": "markdown",
      "metadata": {
        "id": "zi6ZjgtWnb58"
      },
      "source": [
        "**Student's answer:**"
      ]
    },
    {
      "cell_type": "markdown",
      "metadata": {
        "id": "r-w7CLJeJAZC"
      },
      "source": [
        "[SBERT](https://www.sbert.net) generates 384-dimensional text embedding vectors for each text entry. See [more models](https://www.sbert.net/docs/pretrained_models.html).\n",
        "* Only reputable publicly available embedding models are allowed (SBERT, USE, MUSE, LASER, ...). We want to prevent participants' training embeddings on test data."
      ]
    },
    {
      "cell_type": "code",
      "execution_count": null,
      "metadata": {
        "id": "QfkARvtJJCum"
      },
      "outputs": [],
      "source": [
        "%%capture\n",
        "sbert = SBERT('paraphrase-MiniLM-L6-v2')  # 4 seconds; loads SBERT embeddings model"
      ]
    },
    {
      "cell_type": "code",
      "execution_count": null,
      "metadata": {
        "id": "Csb67Fu907T_"
      },
      "outputs": [],
      "source": [
        "tEmb, vEmb = sbert.encode([s[:100] for s in new_tXY.DNA[:60000]]), sbert.encode([s[:100] for s in vX.DNA])  # embed all sequences to same-size vectors"
      ]
    },
    {
      "cell_type": "code",
      "execution_count": null,
      "metadata": {
        "id": "gCHVso7007T_",
        "outputId": "3a6d17ef-4c8f-4ae3-f981-a8a22bff7e3b"
      },
      "outputs": [
        {
          "name": "stderr",
          "output_type": "stream",
          "text": [
            "/Users/gena/Documents/venv/lib/python3.9/site-packages/sklearn/svm/_classes.py:32: FutureWarning: The default value of `dual` will change from `True` to `'auto'` in 1.5. Set the value of `dual` explicitly to suppress the warning.\n",
            "  warnings.warn(\n"
          ]
        },
        {
          "data": {
            "text/plain": [
              "0.96925"
            ]
          },
          "execution_count": 75,
          "metadata": {},
          "output_type": "execute_result"
        }
      ],
      "source": [
        "m = LinearSVC(random_state=0, max_iter=12000).fit(tEmb, new_tXY.Y[:60000])  # SVC is ok to use. See updated Rules.\n",
        "m.score(tEmb, new_tXY.Y[:60000])   # in-sample accuracy"
      ]
    },
    {
      "cell_type": "code",
      "execution_count": null,
      "metadata": {
        "id": "U1PsK7LZJIgQ"
      },
      "outputs": [],
      "source": [
        "pY = pd.DataFrame(m.predict(vEmb), index=vX.index, columns=['y'])   # predicted targets\n",
        "ToCSV((pY>0.5)*1, 'last_classic_ml_submission')"
      ]
    },
    {
      "cell_type": "markdown",
      "metadata": {
        "id": "pzBsjCvS_kEw"
      },
      "source": [
        "# **References:**"
      ]
    },
    {
      "cell_type": "markdown",
      "metadata": {
        "id": "2kr8Q-9T_nAb"
      },
      "source": [
        "1. Remember to cite your sources here as well! At the least, your textbook should be cited. Google Scholar allows you to effortlessly copy/paste an APA citation format for books and publications. Also cite StackOverflow, package documentation, and other meaningful internet resources to help your peers learn from these (and to avoid plagiarism claims).\n",
        "1. ...\n",
        "1. ..."
      ]
    },
    {
      "cell_type": "markdown",
      "metadata": {
        "id": "DoF2GoB_QGw9"
      },
      "source": [
        "<font size=5>⌛</font> <strong><font color=orange size=5>Do not exceed competition's runtime limit!</font></strong>\n",
        "\n",
        "<hr color=red>\n"
      ]
    },
    {
      "cell_type": "code",
      "execution_count": null,
      "metadata": {
        "colab": {
          "base_uri": "https://localhost:8080/"
        },
        "id": "nosV1OWFJPx5",
        "outputId": "af958343-e385-40c4-c2d7-f0b0ac44a239"
      },
      "outputs": [
        {
          "name": "stdout",
          "output_type": "stream",
          "text": [
            "Runtime is 43 sec\n"
          ]
        }
      ],
      "source": [
        "tmr.ShowTime()    # measure Colab's runtime. Do not remove. Keep as the last cell in your notebook."
      ]
    },
    {
      "cell_type": "markdown",
      "metadata": {
        "id": "udpl5HJ4JSLr"
      },
      "source": [
        "# 💡**Starter Ideas**"
      ]
    },
    {
      "cell_type": "markdown",
      "metadata": {
        "id": "uWllDRgiJVDJ"
      },
      "source": [
        "1. Learn about DNA [&#127910;](https://www.youtube.com/results?search_query=nucleotides+genes+amino+acids+)\n",
        "1. Try a larger training sample.\n",
        "1. Try longer training DNA strings, but SBERT may have a cap on string length, so you might split DNA into several strings and then concatenate or average resulting vectors\n",
        "1. Try other pretrained SBERT models. Note that DNA sequence uses ACGT letters, but many other models were trained on multilingual text. So, you might prefer those that were trained on mostly ASCII.\n",
        "1. SBERT is trained on word tokens (typically, separated by spaces), but DNA sequence has no spaces. Try placing spaces after every character or some semantically meaningful subsequences (this might require more domain knowledge).\n",
        "1. Try Google's [USE](https://tfhub.dev/google/universal-sentence-encoder-multilingual/3) embedding models\n",
        "1. Try Facebook's [LASER](https://github.com/facebookresearch/LASER) and [others](https://tfhub.dev/s?module-type=text-language-model).\n",
        "1. Try [Enformer](https://tfhub.dev/deepmind/enformer/1) for gene expressions. See [DeepMind paper](https://deepmind.com/blog/article/enformer).\n",
        "1. Try building your own embeddings on the given sequences. SBERT and other packages make it easy (just a few lines), but it may take too much time.\n",
        "1. Assess distribution of character patterns (single, doubles, triplets, ...). For example, an ACGT string generates AC, CG, GT doubles and ACG and CGT triplets. Does one class have more subsequences of some type? This might be a feature in your model.\n",
        "1. Try features built as counts of subsequences (singles, doubles, triplets, ...). Consider EDA first.\n",
        "1. Concatenate or otherwise combine multiple embeddings derived from each gene string\n",
        "1. Learn from [*The genetic code*](https://www.khanacademy.org/science/ap-biology/gene-expression-and-regulation/translation/a/the-genetic-code-discovery-and-properties), Khan Academy.\n",
        "1. Learn from [*Apply Machine Learning Algorithms for Genomics Data Classification*](https://medium.com/mlearning-ai/apply-machine-learning-algorithms-for-genomics-data-classification-132972933723)\n",
        "1. Learn from [*Efficient counting of k-mers in DNA sequences using a bloom filter*](https://bmcbioinformatics.biomedcentral.com/articles/10.1186/1471-2105-12-333) Páll Melsted et al. 2011\n",
        "1. Try [Byte Pair Encoding](https://www.derczynski.com/papers/archive/BPE_Gage.pdf) and [SentencePiece](https://arxiv.org/pdf/1808.06226.pdf) to auto identification of \"important\" [k-mers](https://en.wikipedia.org/wiki/K-mer) (substrings)"
      ]
    },
    {
      "cell_type": "code",
      "execution_count": null,
      "metadata": {
        "id": "hFwKcfCnmmGh"
      },
      "outputs": [],
      "source": []
    }
  ],
  "metadata": {
    "accelerator": "GPU",
    "colab": {
      "provenance": []
    },
    "kernelspec": {
      "display_name": "Python 3 (ipykernel)",
      "language": "python",
      "name": "python3"
    },
    "language_info": {
      "codemirror_mode": {
        "name": "ipython",
        "version": 3
      },
      "file_extension": ".py",
      "mimetype": "text/x-python",
      "name": "python",
      "nbconvert_exporter": "python",
      "pygments_lexer": "ipython3",
      "version": "3.9.12"
    }
  },
  "nbformat": 4,
  "nbformat_minor": 0
}